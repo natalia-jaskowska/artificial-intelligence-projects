{
 "cells": [
  {
   "cell_type": "markdown",
   "id": "c6fcbec0-d769-45ba-8e16-3ddb2beb1c44",
   "metadata": {},
   "source": [
    "# Modele Bayesowskie\n",
    "\n",
    "Implementacja narzędzia do wnioskowania przy użyciu sieci Bayesa (algorytm MCMC z próbkowaniem Gibbsa) i jego przykładowe użycie."
   ]
  },
  {
   "cell_type": "markdown",
   "id": "0ee910d3-5833-4368-9866-735fd81acfbb",
   "metadata": {},
   "source": [
    "## Założenia\n",
    "1. wnioskowanie będzie stosowało algorytm MCMC z próbkowaniem Gibbsa,\n",
    "2. metoda/funkcja do wnioskowania będzie mieć 3 parametry wejściowe:\n",
    "    \n",
    "    (a) dowody (czyli zaobserwowane wartości wybranych węzłów sieci),\n",
    "    \n",
    "    (b) zapytanie — określające, dla której zmiennej chcemy wykonać obliczenia,\n",
    "    \n",
    "    (c) liczba iteracji algorytmu MCMC,oraz będzie zwracała zaktualizowaną tabelę prawdopodobieństw dla zmiennej z zapytania,\n",
    "3. można przyjąć założenie, że wszystkie zmienne losowe są binarne,\n",
    "4. eksperymenty powinny dotyczyć tego, jak zmieniają się wyniki wnioskowania i czas obliczeńwraz ze zwiększaniem liczby iteracji.\n"
   ]
  },
  {
   "cell_type": "code",
   "execution_count": null,
   "id": "fa199ec8-05da-4b0f-8676-d30dd3424ea2",
   "metadata": {},
   "outputs": [],
   "source": [
    "import numpy as np\n",
    "from matplotlib import pyplot as plt\n",
    "import timeit\n",
    "import time\n",
    "import seaborn as sns"
   ]
  },
  {
   "cell_type": "code",
   "execution_count": 86,
   "id": "115cedb7-6063-4255-ad02-f68c5333bcd1",
   "metadata": {},
   "outputs": [],
   "source": [
    "class BayesNetwork:\n",
    "    def __init__(self, graph, probs):\n",
    "        self.graph = graph\n",
    "        self.probs = probs\n",
    "        \n",
    "        self.graph_T = {node: [] for node in self.graph}\n",
    "        for child, parents in self.graph.items():\n",
    "            for parent in parents:\n",
    "                self.graph_T[parent].append(child)\n",
    "        \n",
    "    def nodes(self):\n",
    "        return list(self.graph.keys())\n",
    "    \n",
    "    def parents(self, node):\n",
    "        return self.graph[node]\n",
    "    \n",
    "    def children(self, node):\n",
    "        return self.graph_T[node]\n",
    "    \n",
    "    def possible_values(self, node):\n",
    "        return [False, True]\n",
    "    \n",
    "    def sample(self, node, rng):\n",
    "        return rng.choice(self.possible_values(node))\n",
    "    \n",
    "    def _calc_prob(self, node, V):\n",
    "        '''\n",
    "        calculate P(node == V[node] | parents(node) == V[parents(node)])\n",
    "        '''\n",
    "        val = self.probs[node][tuple(V[p] for p in self.parents(node))]\n",
    "        if V[node] == 0:\n",
    "            val = 1 - val\n",
    "        return val\n",
    "    \n",
    "    def gibbs_sample(self, node, V, rng):\n",
    "        old_val = V[node]\n",
    "        try:\n",
    "            vals = []\n",
    "            for v in self.possible_values(node):\n",
    "                V[node] = v\n",
    "                val = self._calc_prob(node, V)\n",
    "                for child in self.children(node):\n",
    "                    val *= self._calc_prob(child, V)\n",
    "                vals.append(val)\n",
    "                \n",
    "            vals_sum = sum(vals)\n",
    "            probs = [v / vals_sum for v in vals]\n",
    "\n",
    "            return rng.choice(self.possible_values(node), p=probs)\n",
    "        finally:\n",
    "            V[node] = old_val"
   ]
  },
  {
   "cell_type": "markdown",
   "id": "00f38732-4281-4e3d-8dc0-5e7d9e07c103",
   "metadata": {},
   "source": [
    "## Algorytm MCMC z próbkowaniem Gibbsa"
   ]
  },
  {
   "cell_type": "code",
   "execution_count": null,
   "id": "4b4604a8-1e72-431c-b1df-6a22443a04ca",
   "metadata": {},
   "outputs": [],
   "source": [
    "def mcmc(G, E, X, iterations, seed=0):\n",
    "    rng = np.random.RandomState(seed)\n",
    "    \n",
    "    V = {\n",
    "        n: (E[n] if n in E else G.sample(n, rng))\n",
    "        for n in G.nodes()\n",
    "    }\n",
    "    C = {v: 0 for v in G.possible_values(X)}\n",
    "    \n",
    "    for _ in range(iterations):\n",
    "        node = rng.choice(sorted(set(G.nodes()) - set(E.keys())))\n",
    "        V[node] = G.gibbs_sample(node, V, rng)\n",
    "        C[V[node]] += 1\n",
    "        \n",
    "    return {k: v / iterations for k, v in C.items()}"
   ]
  },
  {
   "cell_type": "markdown",
   "id": "9ab6ef60-dfe2-4ae0-bd92-79e2e9640dee",
   "metadata": {},
   "source": [
    "## Zaimplementowany acykliczny graf alarmu"
   ]
  },
  {
   "cell_type": "code",
   "execution_count": 166,
   "id": "cec40c0d-b579-41a0-8a32-d8b7523c18e7",
   "metadata": {},
   "outputs": [],
   "source": [
    "G = BayesNetwork({\n",
    "        'wlamanie': [],\n",
    "        'trzesienie': [],\n",
    "        'alarm': ['wlamanie', 'trzesienie'],\n",
    "        'jan': ['alarm'],\n",
    "        'magda': ['alarm'],\n",
    "    }, {\n",
    "        'wlamanie': {(): 0.01},\n",
    "        'trzesienie': {(): 0.02},\n",
    "        'alarm': {(True, True): 0.95, (True, False): 0.94,\n",
    "                  (False, True): 0.29, (False, False): 0.001},\n",
    "        'jan': {(True,): 0.9, (False,): 0.05},\n",
    "        'magda': {(True,): 0.7, (False,): 0.01},\n",
    "    }\n",
    ")\n",
    "E = {\n",
    "    'alarm': True,\n",
    "    'jan': True,\n",
    "}\n",
    "X = 'wlamanie'"
   ]
  },
  {
   "cell_type": "code",
   "execution_count": 167,
   "id": "0ea4e1c6-d188-4fd8-bb0c-d038b00ed560",
   "metadata": {},
   "outputs": [
    {
     "name": "stdout",
     "output_type": "stream",
     "text": [
      "P(wlamanie=False | alarm=True, jan=True) = 0.4576\n",
      "P(wlamanie=True | alarm=True, jan=True) = 0.5424\n",
      "CPU times: user 423 ms, sys: 19.7 ms, total: 443 ms\n",
      "Wall time: 428 ms\n"
     ]
    }
   ],
   "source": [
    "%%time\n",
    "ret = mcmc(G, E, X, 10000)\n",
    "for val, prob in ret.items():\n",
    "    print(f'P({X}={val} | {\", \".join(f\"{k}={v}\" for k, v in E.items())}) = {prob}')"
   ]
  },
  {
   "cell_type": "markdown",
   "id": "11f3fb13-5fef-4d59-9533-93ec119c10db",
   "metadata": {},
   "source": [
    "Przykładowy wynik działania algorytmu, prawdopodobienstwa sumują się do jedynki"
   ]
  },
  {
   "cell_type": "markdown",
   "id": "cc1448e0-563c-4e86-b261-c3fd5cd31e93",
   "metadata": {},
   "source": [
    "## Wykresy oraz wnioski"
   ]
  },
  {
   "cell_type": "code",
   "execution_count": 173,
   "id": "718ebfbf-cbe2-4237-8f6a-1170bbe343d1",
   "metadata": {},
   "outputs": [],
   "source": [
    "from collections import defaultdict\n",
    "import pandas as pd\n",
    "import seaborn as sns"
   ]
  },
  {
   "cell_type": "code",
   "execution_count": 188,
   "id": "4e93d04a-0c13-489b-954e-be2b98f25830",
   "metadata": {},
   "outputs": [
    {
     "data": {
      "image/png": "[encoded data removed]",
      "text/plain": [
       "<Figure size 720x360 with 1 Axes>"
      ]
     },
     "metadata": {
      "needs_background": "light"
     },
     "output_type": "display_data"
    }
   ],
   "source": [
    "plt.figure(figsize=(10,5))\n",
    "iterations = list(range(1,1001,100))\n",
    "durations = []\n",
    "res = defaultdict(lambda: [])\n",
    "for iter in iterations:\n",
    "    durations.append(timeit.timeit(lambda: res[iter].append(mcmc(G, E, X, iter, seed=np.random.randint(0, 10000))[True]), number=50))\n",
    "plt.plot(iterations, durations)\n",
    "plt.xlabel('iterations')\n",
    "plt.ylabel('duration (s)')\n",
    "plt.show()           "
   ]
  },
  {
   "cell_type": "markdown",
   "id": "08c837f9-014f-42a0-adbc-3f98e9b1d75c",
   "metadata": {},
   "source": [
    "Zależność czasu od iteracji wykonywania przedstawionego algorytmu jest liniowa."
   ]
  },
  {
   "cell_type": "code",
   "execution_count": 179,
   "id": "c2db10a6-5cf4-4ab9-9fb4-48298d4ac99f",
   "metadata": {},
   "outputs": [
    {
     "data": {
      "text/html": [
       "<div>\n",
       "<style scoped>\n",
       "    .dataframe tbody tr th:only-of-type {\n",
       "        vertical-align: middle;\n",
       "    }\n",
       "\n",
       "    .dataframe tbody tr th {\n",
       "        vertical-align: top;\n",
       "    }\n",
       "\n",
       "    .dataframe thead th {\n",
       "        text-align: right;\n",
       "    }\n",
       "</style>\n",
       "<table border=\"1\" class=\"dataframe\">\n",
       "  <thead>\n",
       "    <tr style=\"text-align: right;\">\n",
       "      <th></th>\n",
       "      <th>iteration</th>\n",
       "      <th>true_probability</th>\n",
       "    </tr>\n",
       "  </thead>\n",
       "  <tbody>\n",
       "    <tr>\n",
       "      <th>0</th>\n",
       "      <td>1</td>\n",
       "      <td>1.000000</td>\n",
       "    </tr>\n",
       "    <tr>\n",
       "      <th>1</th>\n",
       "      <td>1</td>\n",
       "      <td>1.000000</td>\n",
       "    </tr>\n",
       "    <tr>\n",
       "      <th>2</th>\n",
       "      <td>1</td>\n",
       "      <td>1.000000</td>\n",
       "    </tr>\n",
       "    <tr>\n",
       "      <th>3</th>\n",
       "      <td>1</td>\n",
       "      <td>1.000000</td>\n",
       "    </tr>\n",
       "    <tr>\n",
       "      <th>4</th>\n",
       "      <td>1</td>\n",
       "      <td>1.000000</td>\n",
       "    </tr>\n",
       "    <tr>\n",
       "      <th>...</th>\n",
       "      <td>...</td>\n",
       "      <td>...</td>\n",
       "    </tr>\n",
       "    <tr>\n",
       "      <th>495</th>\n",
       "      <td>901</td>\n",
       "      <td>0.580466</td>\n",
       "    </tr>\n",
       "    <tr>\n",
       "      <th>496</th>\n",
       "      <td>901</td>\n",
       "      <td>0.539401</td>\n",
       "    </tr>\n",
       "    <tr>\n",
       "      <th>497</th>\n",
       "      <td>901</td>\n",
       "      <td>0.554939</td>\n",
       "    </tr>\n",
       "    <tr>\n",
       "      <th>498</th>\n",
       "      <td>901</td>\n",
       "      <td>0.582686</td>\n",
       "    </tr>\n",
       "    <tr>\n",
       "      <th>499</th>\n",
       "      <td>901</td>\n",
       "      <td>0.553829</td>\n",
       "    </tr>\n",
       "  </tbody>\n",
       "</table>\n",
       "<p>500 rows × 2 columns</p>\n",
       "</div>"
      ],
      "text/plain": [
       "     iteration  true_probability\n",
       "0            1          1.000000\n",
       "1            1          1.000000\n",
       "2            1          1.000000\n",
       "3            1          1.000000\n",
       "4            1          1.000000\n",
       "..         ...               ...\n",
       "495        901          0.580466\n",
       "496        901          0.539401\n",
       "497        901          0.554939\n",
       "498        901          0.582686\n",
       "499        901          0.553829\n",
       "\n",
       "[500 rows x 2 columns]"
      ]
     },
     "execution_count": 179,
     "metadata": {},
     "output_type": "execute_result"
    }
   ],
   "source": [
    "df = pd.DataFrame.from_dict({\n",
    "    'iteration': [iter for iter, probs in res.items() for prob in probs],\n",
    "    'true_probability': [prob for iter, probs in res.items() for prob in probs]\n",
    "})\n",
    "df"
   ]
  },
  {
   "cell_type": "code",
   "execution_count": 180,
   "id": "c323c186-7f63-4c36-b2ef-4094a550d2de",
   "metadata": {},
   "outputs": [
    {
     "data": {
      "text/plain": [
       "<AxesSubplot:xlabel='iteration', ylabel='true_probability'>"
      ]
     },
     "execution_count": 180,
     "metadata": {},
     "output_type": "execute_result"
    },
    {
     "data": {
      "image/png": "[encoded data removed]",
      "text/plain": [
       "<Figure size 432x288 with 1 Axes>"
      ]
     },
     "metadata": {
      "needs_background": "light"
     },
     "output_type": "display_data"
    }
   ],
   "source": [
    "sns.lineplot(df, x='iteration', y='true_probability', errorbar='sd')"
   ]
  },
  {
   "cell_type": "markdown",
   "id": "2f15797f-3677-49d0-b4e3-e949c6088a42",
   "metadata": {},
   "source": [
    "Prawdopodobieśtwo zbiega do asymptoty wraz ze wzrostem iteracji, początkowo widać duże odchylenie, które z czasem zanika."
   ]
  },
  {
   "cell_type": "code",
   "execution_count": 184,
   "id": "8aeb9501-f2f3-418b-91ee-6d0608c7de8d",
   "metadata": {},
   "outputs": [
    {
     "data": {
      "image/png": "[encoded data removed]",
      "text/plain": [
       "<Figure size 432x288 with 1 Axes>"
      ]
     },
     "metadata": {
      "needs_background": "light"
     },
     "output_type": "display_data"
    }
   ],
   "source": [
    "ax = sns.lineplot(df.groupby('iteration', as_index=False).std(), x='iteration', y='true_probability', errorbar='sd')\n",
    "plt.ylabel('std')\n",
    "ax.set_yscale('log')"
   ]
  },
  {
   "cell_type": "markdown",
   "id": "5421864b-291b-4bcd-8f7e-a37c20bf1ffc",
   "metadata": {},
   "source": [
    "Wraz z wzrostem iteracji algorytmu odchylenie standardowe zmniejsza się."
   ]
  }
 ],
 "metadata": {
  "kernelspec": {
   "display_name": "Python 3 (ipykernel)",
   "language": "python",
   "name": "python3"
  },
  "language_info": {
   "codemirror_mode": {
    "name": "ipython",
    "version": 3
   },
   "file_extension": ".py",
   "mimetype": "text/x-python",
   "name": "python",
   "nbconvert_exporter": "python",
   "pygments_lexer": "ipython3",
   "version": "3.10.6"
  }
 },
 "nbformat": 4,
 "nbformat_minor": 5
}
