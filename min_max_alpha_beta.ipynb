{
 "cells": [
  {
   "cell_type": "markdown",
   "id": "f9f0529e-41a2-4531-b1e2-dc2afba7b2ee",
   "metadata": {},
   "source": [
    "# Dwuosobowe gry deterministyczne\n",
    "\n",
    "Implementacja algorytmu min-max z przycinaniem α−β. Dla różnych ruchów o tej samej jakości, algorytm zwraca losowy z nich. \n",
    "\n",
    "Następnie wykorzystano implementację do porównania jakości dla różnych głębokości przeszukiwania dla gry kółko i krzyżyk na planszy $N \\times N$. \n",
    "\n",
    "W raporcie zostały umieszczone wyniki turnieju w grę kółko i krzyżyk, w którym biorą udział gracze sterowani algorytmem z różnymi głębokościami przeszukiwania.\n",
    "\n",
    "\n"
   ]
  },
  {
   "cell_type": "markdown",
   "id": "ec297f50-7aee-4db5-928e-eee562834737",
   "metadata": {},
   "source": [
    "## Używane biblioteki oraz funkcje"
   ]
  },
  {
   "cell_type": "code",
   "execution_count": 1,
   "id": "373d894e-e4b0-42b4-a22d-b0325b705d6d",
   "metadata": {},
   "outputs": [],
   "source": [
    "import numpy as np\n",
    "from collections import Counter\n",
    "from multiprocessing import Pool\n",
    "import os\n",
    "import pandas as pd\n",
    "import seaborn as sns\n",
    "from matplotlib import pyplot as plt\n",
    "import timeit\n",
    "import random\n",
    "import time\n",
    "\n",
    "\n",
    "EMPTY = 0\n",
    "CROSS = 1\n",
    "CIRCLE = -1\n",
    "    "
   ]
  },
  {
   "cell_type": "code",
   "execution_count": 2,
   "id": "c25686f2-0ca5-4d4c-861c-cc363f708f33",
   "metadata": {},
   "outputs": [],
   "source": [
    "def print_board(board):\n",
    "    '''\n",
    "    Prints the board\n",
    "    '''\n",
    "    for row in board:\n",
    "        for cell in row:\n",
    "            if cell == EMPTY:\n",
    "                char = '.'\n",
    "            elif cell == CROSS:\n",
    "                char = 'x'\n",
    "            elif cell == CIRCLE:\n",
    "                char = 'o'\n",
    "            else:\n",
    "                raise ValueError('wrong value in board')\n",
    "            print(char, end=' ')\n",
    "        print()"
   ]
  },
  {
   "cell_type": "code",
   "execution_count": 3,
   "id": "31e20649-3cda-4b59-a2ab-d9e7662c5061",
   "metadata": {},
   "outputs": [],
   "source": [
    "def game_status(board):\n",
    "    '''\n",
    "    returns None if not a terminal state (game didn't finish), CROSS is cross player won, CIRCLE is circle player won, 0 for a tie.\n",
    "    '''\n",
    "  \n",
    "    #Draw\n",
    "    if (board != EMPTY).all():\n",
    "        return 0\n",
    "    \n",
    "    #stacking rows, columns and diagonals in one array\n",
    "    lines = np.concatenate([\n",
    "        board,\n",
    "        board.T,\n",
    "        board[range(len(board)), range(len(board))].reshape(1, -1),\n",
    "        board[range(len(board)), range(len(board) - 1, -1, -1)].reshape(1, -1),\n",
    "    ])\n",
    "    #Checking crosses lines win\n",
    "    if ((lines == CROSS).sum(axis=1) == len(board)).any():\n",
    "        return CROSS\n",
    "    #Checking circles lines win\n",
    "    if ((lines == CIRCLE).sum(axis=1) == len(board)).any():\n",
    "        return CIRCLE\n",
    "    #if not a terminal state\n",
    "    return None"
   ]
  },
  {
   "cell_type": "code",
   "execution_count": 4,
   "id": "fe1bb04f-1310-4360-876c-753dae1d0e51",
   "metadata": {},
   "outputs": [],
   "source": [
    "def available_game_states(board, player):\n",
    "    '''\n",
    "    Yields all possible boards that can be obtained by a single move of player `player`\n",
    "    '''\n",
    "    for i in range(board.shape[0]):  \n",
    "        for j in range(board.shape[1]):\n",
    "            if board[i, j] == EMPTY:\n",
    "                new_state = board.copy()\n",
    "                new_state[i,j] = player\n",
    "                yield new_state"
   ]
  },
  {
   "cell_type": "markdown",
   "id": "e5c1b5e0-ba87-4e74-8591-e4019dbd703e",
   "metadata": {},
   "source": [
    "## Allgorytm Minimax z przycinaniem alfa-beta"
   ]
  },
  {
   "cell_type": "code",
   "execution_count": 151,
   "id": "1930c9f5-c890-4610-a6fa-d7c3edb84cb7",
   "metadata": {},
   "outputs": [],
   "source": [
    "  def mini_max_algorithm(board, depth, player, heuristic_func, move_max=True, alpha=-np.inf, beta=np.inf,\n",
    "                       return_board=True, orig_player=None):\n",
    "    '''\n",
    "    player --> CROSS or CIRCLE\n",
    "    move_max --> maximazing or minimalizing a utility value\n",
    "    return_board --> return printing board\n",
    "    '''\n",
    "    if orig_player is None:\n",
    "        orig_player = player\n",
    "    \n",
    "    status = game_status(board)\n",
    "    \n",
    "    if status is not None:\n",
    "#         return heuristic_func(board, player), board\n",
    "        return 2 if status == orig_player else -2 if status == -orig_player else 0, board\n",
    "\n",
    "    if depth == 0:\n",
    "        value = heuristic_func(board, orig_player)\n",
    "        \n",
    "        assert -1 <= value <= 1 #zakladam, że wartości heurystyki są od -1 do 1\n",
    "                                #(dlatego,że wygrana to 2, a przegrana to -2, tzn\n",
    "                                #sa scisle wieksze lub scisle mniejsze od wartosci heurystyki)\n",
    "        return value, board\n",
    "#         return heuristic_func(board, player) * (1 if orig_player == player else -1), board\n",
    "    \n",
    "    available_boards = available_game_states(board, player)\n",
    "    if move_max:\n",
    "        best_boards = []\n",
    "        best_value = -np.inf\n",
    "        for available_board in available_boards:\n",
    "            value, _ = mini_max_algorithm(available_board, depth-1, -player, heuristic_func, not move_max, alpha, beta,\n",
    "                                          return_board=False, orig_player=orig_player) \n",
    "            if best_value < value:\n",
    "                #Zerowanie poprzedniej tablicy best_boards\n",
    "                best_boards = [available_board]\n",
    "                best_value = value\n",
    "            elif best_value == value: \n",
    "                best_boards.append(available_board)\n",
    "            #Pruning\n",
    "            if best_value > beta or (not return_board and best_value == beta):\n",
    "                return best_value, None\n",
    "            \n",
    "            if not return_board:\n",
    "                alpha = max(alpha, best_value)\n",
    "            else:\n",
    "                #Potrzebne do wylosowania losowego najlepszego boarda(inaczej moze zostac odciety bez poznania dokladnej wartosci)\n",
    "                #zbyt wczesne odciecie\n",
    "                alpha = max(alpha, best_value - 1e-6)\n",
    "            \n",
    "        if not best_boards or not return_board:\n",
    "            return best_value, None\n",
    "        return best_value, random.choice(best_boards)\n",
    "    \n",
    "    else:\n",
    "        best_boards = []\n",
    "        best_value = np.inf\n",
    "        for available_board in available_boards:\n",
    "            value, _ = mini_max_algorithm(available_board, depth-1, -player, heuristic_func, not move_max, alpha, beta,\n",
    "                                          return_board=False, orig_player=orig_player)\n",
    "            if best_value > value:\n",
    "                #Zerowanie poprzedniej tablicy best_boards\n",
    "                best_boards = [available_board]\n",
    "                best_value = value\n",
    "            elif best_value == value: \n",
    "                best_boards.append(available_board)\n",
    "            if alpha > best_value or (not return_board and alpha == best_value):\n",
    "                return best_value, None\n",
    "            \n",
    "            if return_board:\n",
    "                beta = min(best_value, beta)\n",
    "            else:\n",
    "                beta = min(best_value + 1e-6, beta)\n",
    "            \n",
    "        if not best_boards or not return_board:\n",
    "            return best_value, None\n",
    "        return best_value, random.choice(best_boards)"
   ]
  },
  {
   "cell_type": "markdown",
   "id": "da369a72-eacd-41fc-be84-1f60f162d8b8",
   "metadata": {},
   "source": [
    "## Funkcja turniejowa play"
   ]
  },
  {
   "cell_type": "code",
   "execution_count": 90,
   "id": "ccbfaddd-cc4f-49b7-97e9-434c292399f6",
   "metadata": {},
   "outputs": [],
   "source": [
    "def print_state(board, player=None, utility=None):\n",
    "    '''\n",
    "    Prints current players utlility\n",
    "    '''\n",
    "    if player is not None:\n",
    "        print(f'Player {\"X\" if player == CROSS else \"O\"} (utility {utility})')\n",
    "    print_board(board)\n",
    "    print('-' * 100)\n",
    "    print()\n",
    "\n",
    "def play(depth1, depth2, heuristic_func1, heuristic_func2, board_size, initial_player=CROSS, verbose=False):\n",
    "    '''\n",
    "    Main tournament function\n",
    "    '''\n",
    "    board = np.zeros((board_size, board_size))\n",
    "    player = initial_player\n",
    "    if verbose:\n",
    "        print_state(board)\n",
    "    while (status := game_status(board)) is None:\n",
    "        utility, new_board = mini_max_algorithm(board, depth1 if player == initial_player else depth2, player,\n",
    "                                                heuristic_func1 if player == initial_player else heuristic_func2)\n",
    "        if verbose:\n",
    "            print_state(new_board, player, utility)\n",
    "        board = new_board\n",
    "        player = -player\n",
    "    \n",
    "    if verbose:\n",
    "        if status != 0:\n",
    "            print(f'Player {\"X\" if status == CROSS else \"O\"} won!')\n",
    "        else:\n",
    "            print('The game ended with a tie!')\n",
    "        \n",
    "    return status\n",
    "\n",
    "def play_unpack(args):\n",
    "    return play(*args)"
   ]
  },
  {
   "cell_type": "markdown",
   "id": "713ad813-de22-492b-85bb-63a8db771b01",
   "metadata": {},
   "source": [
    "## Funkcje heurystyczne"
   ]
  },
  {
   "cell_type": "code",
   "execution_count": 148,
   "id": "c470376f-5341-496c-8521-83433082a684",
   "metadata": {},
   "outputs": [],
   "source": [
    "def trivial_heuristics(board, player):\n",
    "    '''\n",
    "    Returns a hueristics value of a board `board` for player `player`.\n",
    "    Higher the better.\n",
    "    Positive values indicate that `player` is at winning position,\n",
    "    0 is a tie,\n",
    "    and negative values indicate that `player` is at loosing position. \n",
    "    '''\n",
    "    status = game_status(board)\n",
    "    if status == player:\n",
    "        return 1\n",
    "    if status == -player:\n",
    "        return -1\n",
    "    return 0  \n",
    "\n",
    "def heuristics(board, player):\n",
    "    '''\n",
    "    calculate the maximum number of `player` signs (cross or circle) in all lines (rows, columns or diagonals),\n",
    "    assuming that there are not signs of other player in that line.\n",
    "    Analogically, calculate that for the opposite player and return the difference.\n",
    "    \n",
    "    '''\n",
    "    \n",
    "    lines = np.concatenate([\n",
    "        board,\n",
    "        board.T,\n",
    "        board[range(len(board)), range(len(board))].reshape(1, -1),\n",
    "        board[range(len(board)), range(len(board) - 1, -1, -1)].reshape(1, -1),\n",
    "    ])\n",
    "    \n",
    "    score_player = ((lines == player).sum(axis=1) * ((lines == -player).sum(axis=1) == 0)).max()\n",
    "    score_opposite = ((lines == -player).sum(1) * ((lines == player).sum(1) == 0)).max()\n",
    "    \n",
    "    #Full by axis board \n",
    "    if score_player == len(board):\n",
    "        return 1\n",
    "    if score_opposite == len(board):\n",
    "        return -1\n",
    "    #dzielenie przez len(board) zeby znormalizowac wartosc do przedzialu (-1,1)\n",
    "    return (score_player - score_opposite) / len(board)\n",
    "\n",
    "def heuristics2(board, player):\n",
    "    '''\n",
    "    calculate the sum of number of `player` signs (cross or circle) in all lines (rows, columns or diagonals) squared, \n",
    "    assuming that there are not signs of other player in that line.\n",
    "    Analogically, calculate that for the opposite player and return the difference.\n",
    "    \n",
    "    '''\n",
    "    \n",
    "    lines = np.concatenate([\n",
    "        board,\n",
    "        board.T,\n",
    "        board[range(len(board)), range(len(board))].reshape(1, -1),\n",
    "        board[range(len(board)), range(len(board) - 1, -1, -1)].reshape(1, -1),\n",
    "    ])\n",
    "    \n",
    "    score_player = (((lines == player).sum(1) * ((lines == -player).sum(1) == 0)) ** 2).sum()\n",
    "    score_opposite = (((lines == -player).sum(1) * ((lines == player).sum(1) == 0)) ** 2).sum()\n",
    "    \n",
    "    #Full by axis board \n",
    "    if score_player == len(board):\n",
    "        return 1\n",
    "    if score_opposite == len(board):\n",
    "        return -1\n",
    "    \n",
    "    #dzielenie zeby znormalizowac wartosc do przedzialu (-1,1)\n",
    "    return (score_player - score_opposite) / (len(board) ** 2 * (len(board) * 2 + 2))"
   ]
  },
  {
   "cell_type": "markdown",
   "id": "e2151fff-063e-4f42-9119-1aa3c8f06e32",
   "metadata": {},
   "source": [
    "## Przykładowe wyniki turniejowe dla gry kółko krzyżyk "
   ]
  },
  {
   "cell_type": "code",
   "execution_count": 55,
   "id": "4a8b416d-c755-48c4-8244-c701dc4735f3",
   "metadata": {},
   "outputs": [
    {
     "name": "stdout",
     "output_type": "stream",
     "text": [
      ". . . . . \n",
      ". . . . . \n",
      ". . . . . \n",
      ". . . . . \n",
      ". . . . . \n",
      "----------------------------------------------------------------------------------------------------\n",
      "\n",
      "Player X (utility 0)\n",
      ". . . . . \n",
      ". . . . . \n",
      ". . x . . \n",
      ". . . . . \n",
      ". . . . . \n",
      "----------------------------------------------------------------------------------------------------\n",
      "\n",
      "Player O (utility 0)\n",
      ". . . . . \n",
      ". . . . . \n",
      "o . x . . \n",
      ". . . . . \n",
      ". . . . . \n",
      "----------------------------------------------------------------------------------------------------\n",
      "\n",
      "Player X (utility 0)\n",
      ". . . . . \n",
      ". . . . x \n",
      "o . x . . \n",
      ". . . . . \n",
      ". . . . . \n",
      "----------------------------------------------------------------------------------------------------\n",
      "\n",
      "Player O (utility 0)\n",
      ". . . . . \n",
      ". . . . x \n",
      "o . x . . \n",
      ". . . . . \n",
      ". . . o . \n",
      "----------------------------------------------------------------------------------------------------\n",
      "\n",
      "Player X (utility 0)\n",
      ". . . . . \n",
      ". . . . x \n",
      "o . x x . \n",
      ". . . . . \n",
      ". . . o . \n",
      "----------------------------------------------------------------------------------------------------\n",
      "\n",
      "Player O (utility 0)\n",
      ". . . . . \n",
      ". . . . x \n",
      "o o x x . \n",
      ". . . . . \n",
      ". . . o . \n",
      "----------------------------------------------------------------------------------------------------\n",
      "\n",
      "Player X (utility 0)\n",
      ". . . x . \n",
      ". . . . x \n",
      "o o x x . \n",
      ". . . . . \n",
      ". . . o . \n",
      "----------------------------------------------------------------------------------------------------\n",
      "\n",
      "Player O (utility 0)\n",
      ". . . x . \n",
      ". . o . x \n",
      "o o x x . \n",
      ". . . . . \n",
      ". . . o . \n",
      "----------------------------------------------------------------------------------------------------\n",
      "\n",
      "Player X (utility 0)\n",
      ". . x x . \n",
      ". . o . x \n",
      "o o x x . \n",
      ". . . . . \n",
      ". . . o . \n",
      "----------------------------------------------------------------------------------------------------\n",
      "\n",
      "Player O (utility 0)\n",
      ". . x x . \n",
      "o . o . x \n",
      "o o x x . \n",
      ". . . . . \n",
      ". . . o . \n",
      "----------------------------------------------------------------------------------------------------\n",
      "\n",
      "Player X (utility 0)\n",
      ". . x x . \n",
      "o . o . x \n",
      "o o x x . \n",
      ". . . . . \n",
      ". . . o x \n",
      "----------------------------------------------------------------------------------------------------\n",
      "\n",
      "Player O (utility 0)\n",
      ". . x x . \n",
      "o . o . x \n",
      "o o x x . \n",
      ". . o . . \n",
      ". . . o x \n",
      "----------------------------------------------------------------------------------------------------\n",
      "\n",
      "Player X (utility 0)\n",
      ". . x x . \n",
      "o . o . x \n",
      "o o x x . \n",
      ". . o . . \n",
      "x . . o x \n",
      "----------------------------------------------------------------------------------------------------\n",
      "\n",
      "Player O (utility 0)\n",
      ". . x x o \n",
      "o . o . x \n",
      "o o x x . \n",
      ". . o . . \n",
      "x . . o x \n",
      "----------------------------------------------------------------------------------------------------\n",
      "\n",
      "Player X (utility 0)\n",
      ". . x x o \n",
      "o . o x x \n",
      "o o x x . \n",
      ". . o . . \n",
      "x . . o x \n",
      "----------------------------------------------------------------------------------------------------\n",
      "\n",
      "Player O (utility 0)\n",
      ". . x x o \n",
      "o o o x x \n",
      "o o x x . \n",
      ". . o . . \n",
      "x . . o x \n",
      "----------------------------------------------------------------------------------------------------\n",
      "\n",
      "Player X (utility 0)\n",
      "x . x x o \n",
      "o o o x x \n",
      "o o x x . \n",
      ". . o . . \n",
      "x . . o x \n",
      "----------------------------------------------------------------------------------------------------\n",
      "\n",
      "Player O (utility 0)\n",
      "x . x x o \n",
      "o o o x x \n",
      "o o x x . \n",
      ". . o . . \n",
      "x o . o x \n",
      "----------------------------------------------------------------------------------------------------\n",
      "\n",
      "Player X (utility 0)\n",
      "x x x x o \n",
      "o o o x x \n",
      "o o x x . \n",
      ". . o . . \n",
      "x o . o x \n",
      "----------------------------------------------------------------------------------------------------\n",
      "\n",
      "Player O (utility 0)\n",
      "x x x x o \n",
      "o o o x x \n",
      "o o x x o \n",
      ". . o . . \n",
      "x o . o x \n",
      "----------------------------------------------------------------------------------------------------\n",
      "\n",
      "Player X (utility 0)\n",
      "x x x x o \n",
      "o o o x x \n",
      "o o x x o \n",
      ". . o x . \n",
      "x o . o x \n",
      "----------------------------------------------------------------------------------------------------\n",
      "\n",
      "Player O (utility 0)\n",
      "x x x x o \n",
      "o o o x x \n",
      "o o x x o \n",
      ". . o x o \n",
      "x o . o x \n",
      "----------------------------------------------------------------------------------------------------\n",
      "\n",
      "Player X (utility 0)\n",
      "x x x x o \n",
      "o o o x x \n",
      "o o x x o \n",
      ". . o x o \n",
      "x o x o x \n",
      "----------------------------------------------------------------------------------------------------\n",
      "\n",
      "Player O (utility 0)\n",
      "x x x x o \n",
      "o o o x x \n",
      "o o x x o \n",
      "o . o x o \n",
      "x o x o x \n",
      "----------------------------------------------------------------------------------------------------\n",
      "\n",
      "Player X (utility 0)\n",
      "x x x x o \n",
      "o o o x x \n",
      "o o x x o \n",
      "o x o x o \n",
      "x o x o x \n",
      "----------------------------------------------------------------------------------------------------\n",
      "\n",
      "The game ended with a tie!\n"
     ]
    },
    {
     "data": {
      "text/plain": [
       "0"
      ]
     },
     "execution_count": 55,
     "metadata": {},
     "output_type": "execute_result"
    }
   ],
   "source": [
    "play(depth1=2, depth2=4, heuristic_func1=trivial_heuristics, heuristic_func2=trivial_heuristics, board_size=5, verbose=True)"
   ]
  },
  {
   "cell_type": "markdown",
   "id": "4048c81e-ea56-41e5-add3-cd4a0aed8c28",
   "metadata": {},
   "source": [
    "*Przykładowa gra kółko-krzyżyk na planszy 5x5. Podczas całej rozgrywki zarówno jak dla gracza pierwszego jak i drugiego aktualna pozycja oraz \"Użytek\" z wygrania wynosiła zero.*"
   ]
  },
  {
   "cell_type": "code",
   "execution_count": 136,
   "id": "887c5fb3-31e3-452d-b629-16440b439ae1",
   "metadata": {},
   "outputs": [
    {
     "name": "stdout",
     "output_type": "stream",
     "text": [
      ". . . . \n",
      ". . . . \n",
      ". . . . \n",
      ". . . . \n",
      "----------------------------------------------------------------------------------------------------\n",
      "\n",
      "Player X (utility 0)\n",
      ". . . . \n",
      ". . x . \n",
      ". . . . \n",
      ". . . . \n",
      "----------------------------------------------------------------------------------------------------\n",
      "\n",
      "Player O (utility 0)\n",
      ". . . . \n",
      ". o x . \n",
      ". . . . \n",
      ". . . . \n",
      "----------------------------------------------------------------------------------------------------\n",
      "\n",
      "Player X (utility 0)\n",
      ". . . . \n",
      ". o x . \n",
      ". . . . \n",
      "x . . . \n",
      "----------------------------------------------------------------------------------------------------\n",
      "\n",
      "Player O (utility 0)\n",
      ". . o . \n",
      ". o x . \n",
      ". . . . \n",
      "x . . . \n",
      "----------------------------------------------------------------------------------------------------\n",
      "\n",
      "Player X (utility 0)\n",
      ". x o . \n",
      ". o x . \n",
      ". . . . \n",
      "x . . . \n",
      "----------------------------------------------------------------------------------------------------\n",
      "\n",
      "Player O (utility 0)\n",
      ". x o o \n",
      ". o x . \n",
      ". . . . \n",
      "x . . . \n",
      "----------------------------------------------------------------------------------------------------\n",
      "\n",
      "Player X (utility 0)\n",
      ". x o o \n",
      ". o x x \n",
      ". . . . \n",
      "x . . . \n",
      "----------------------------------------------------------------------------------------------------\n",
      "\n",
      "Player O (utility 0)\n",
      ". x o o \n",
      ". o x x \n",
      ". o . . \n",
      "x . . . \n",
      "----------------------------------------------------------------------------------------------------\n",
      "\n",
      "Player X (utility 0)\n",
      ". x o o \n",
      ". o x x \n",
      ". o . . \n",
      "x . . x \n",
      "----------------------------------------------------------------------------------------------------\n",
      "\n",
      "Player O (utility 0)\n",
      ". x o o \n",
      ". o x x \n",
      ". o . . \n",
      "x o . x \n",
      "----------------------------------------------------------------------------------------------------\n",
      "\n",
      "Player X (utility 0)\n",
      ". x o o \n",
      ". o x x \n",
      "x o . . \n",
      "x o . x \n",
      "----------------------------------------------------------------------------------------------------\n",
      "\n",
      "Player O (utility 0)\n",
      ". x o o \n",
      ". o x x \n",
      "x o o . \n",
      "x o . x \n",
      "----------------------------------------------------------------------------------------------------\n",
      "\n",
      "Player X (utility 0)\n",
      ". x o o \n",
      "x o x x \n",
      "x o o . \n",
      "x o . x \n",
      "----------------------------------------------------------------------------------------------------\n",
      "\n",
      "Player O (utility 0)\n",
      "o x o o \n",
      "x o x x \n",
      "x o o . \n",
      "x o . x \n",
      "----------------------------------------------------------------------------------------------------\n",
      "\n",
      "Player X (utility 0)\n",
      "o x o o \n",
      "x o x x \n",
      "x o o . \n",
      "x o x x \n",
      "----------------------------------------------------------------------------------------------------\n",
      "\n",
      "Player O (utility 0)\n",
      "o x o o \n",
      "x o x x \n",
      "x o o o \n",
      "x o x x \n",
      "----------------------------------------------------------------------------------------------------\n",
      "\n",
      "The game ended with a tie!\n"
     ]
    },
    {
     "data": {
      "text/plain": [
       "0"
      ]
     },
     "execution_count": 136,
     "metadata": {},
     "output_type": "execute_result"
    }
   ],
   "source": [
    "play(2, 5, trivial_heuristics, heuristics, board_size=4, verbose=True)"
   ]
  },
  {
   "cell_type": "markdown",
   "id": "c82d8305-45c9-4fcc-8f84-339e2c49637d",
   "metadata": {},
   "source": [
    "***Wnioski***\n",
    "\n",
    "Dla wybranych heurystyk przy zwiększaniu głębokości dla jednej z nich, w kazdym przypadku uzyskujemy remis. Gra zakończona na remisie jest najbardziej prawdopodobna w tym przypadku."
   ]
  },
  {
   "cell_type": "code",
   "execution_count": 137,
   "id": "4121cbf3-0d94-4147-b907-cb12fabd26d0",
   "metadata": {},
   "outputs": [
    {
     "name": "stdout",
     "output_type": "stream",
     "text": [
      ". . . \n",
      ". . . \n",
      ". . . \n",
      "----------------------------------------------------------------------------------------------------\n",
      "\n",
      "Player X (utility 0)\n",
      ". . . \n",
      ". x . \n",
      ". . . \n",
      "----------------------------------------------------------------------------------------------------\n",
      "\n",
      "Player O (utility 0)\n",
      ". o . \n",
      ". x . \n",
      ". . . \n",
      "----------------------------------------------------------------------------------------------------\n",
      "\n",
      "Player X (utility inf)\n",
      ". o . \n",
      ". x . \n",
      ". . x \n",
      "----------------------------------------------------------------------------------------------------\n",
      "\n",
      "Player O (utility -inf)\n",
      ". o . \n",
      ". x o \n",
      ". . x \n",
      "----------------------------------------------------------------------------------------------------\n",
      "\n",
      "Player X (utility inf)\n",
      ". o . \n",
      ". x o \n",
      "x . x \n",
      "----------------------------------------------------------------------------------------------------\n",
      "\n",
      "Player O (utility -inf)\n",
      ". o . \n",
      "o x o \n",
      "x . x \n",
      "----------------------------------------------------------------------------------------------------\n",
      "\n",
      "Player X (utility inf)\n",
      ". o x \n",
      "o x o \n",
      "x . x \n",
      "----------------------------------------------------------------------------------------------------\n",
      "\n",
      "Player X won!\n"
     ]
    },
    {
     "data": {
      "text/plain": [
       "1"
      ]
     },
     "execution_count": 137,
     "metadata": {},
     "output_type": "execute_result"
    }
   ],
   "source": [
    "play(np.inf, 5, trivial_heuristics, heuristics, board_size=3, verbose=True)"
   ]
  },
  {
   "cell_type": "markdown",
   "id": "8e53feaf-6a57-479d-b0af-6fd42a1cf60f",
   "metadata": {},
   "source": [
    "**Wnioski**\n",
    "\n",
    "Brak korzystania z heurystyki, gracz pierwszy osiąga stan terminalny, korzyść dla gracza pierwszego (gracz X). Głębokość przeszukiwania ma znaczenie, niezależnie od używanej heurystyki."
   ]
  },
  {
   "cell_type": "code",
   "execution_count": 143,
   "id": "7ee42a52-655a-4be3-be72-495758545073",
   "metadata": {},
   "outputs": [
    {
     "name": "stdout",
     "output_type": "stream",
     "text": [
      ". . . \n",
      ". . . \n",
      ". . . \n",
      "----------------------------------------------------------------------------------------------------\n",
      "\n",
      "Player X (utility 0)\n",
      ". . . \n",
      ". . x \n",
      ". . . \n",
      "----------------------------------------------------------------------------------------------------\n",
      "\n",
      "Player O (utility 0)\n",
      ". . . \n",
      ". o x \n",
      ". . . \n",
      "----------------------------------------------------------------------------------------------------\n",
      "\n",
      "Player X (utility 0)\n",
      ". . . \n",
      "x o x \n",
      ". . . \n",
      "----------------------------------------------------------------------------------------------------\n",
      "\n",
      "Player O (utility inf)\n",
      ". . . \n",
      "x o x \n",
      ". . o \n",
      "----------------------------------------------------------------------------------------------------\n",
      "\n",
      "Player X (utility -inf)\n",
      ". . x \n",
      "x o x \n",
      ". . o \n",
      "----------------------------------------------------------------------------------------------------\n",
      "\n",
      "Player O (utility inf)\n",
      ". . x \n",
      "x o x \n",
      "o . o \n",
      "----------------------------------------------------------------------------------------------------\n",
      "\n",
      "Player X (utility -inf)\n",
      ". . x \n",
      "x o x \n",
      "o x o \n",
      "----------------------------------------------------------------------------------------------------\n",
      "\n",
      "Player O (utility inf)\n",
      "o . x \n",
      "x o x \n",
      "o x o \n",
      "----------------------------------------------------------------------------------------------------\n",
      "\n",
      "Player O won!\n"
     ]
    },
    {
     "data": {
      "text/plain": [
       "-1"
      ]
     },
     "execution_count": 143,
     "metadata": {},
     "output_type": "execute_result"
    }
   ],
   "source": [
    "play(5, np.inf, trivial_heuristics, heuristics, board_size=3, verbose=True)"
   ]
  },
  {
   "cell_type": "markdown",
   "id": "b504c451-97cd-401c-9746-f862a68d7439",
   "metadata": {},
   "source": [
    "**Wnioski**\n",
    "\n",
    "Wygrana gracza drugiego przy osiągnieciu stanu terminalnego, głębokość przeszukiwania nadal ma znaczenie."
   ]
  },
  {
   "cell_type": "markdown",
   "id": "1a9e62b8-8f21-49d2-8d17-1b3c67714528",
   "metadata": {},
   "source": [
    "### Wykres przedstawiajacy zależność czasową od głębokości przeszukiwań oraz rozmiaru planszy"
   ]
  },
  {
   "cell_type": "code",
   "execution_count": 113,
   "id": "4ce52507-aa70-4ae7-b6ef-3ef306498c4d",
   "metadata": {},
   "outputs": [],
   "source": [
    "depths = list(range(1, 5))\n",
    "sizes = list(range(3, 25))\n",
    "durations = np.zeros((len(depths), len(sizes)), dtype=np.float64) * np.nan\n",
    "for i, depth in enumerate(depths):\n",
    "    for j, size in enumerate(sizes):\n",
    "        durations[i, j] = timeit.timeit(lambda: play(depth, depth, heuristics, heuristics, size), number=1)\n",
    "        if durations[i, j] > 20:\n",
    "            break"
   ]
  },
  {
   "cell_type": "code",
   "execution_count": 115,
   "id": "6429208a-0324-44f9-9e53-b87a70fb6bd5",
   "metadata": {},
   "outputs": [
    {
     "data": {
      "text/plain": [
       "Text(123.0, 0.5, 'depth')"
      ]
     },
     "execution_count": 115,
     "metadata": {},
     "output_type": "execute_result"
    },
    {
     "data": {
      "image/png": "[encoded data removed]",
      "text/plain": [
       "<Figure size 1152x288 with 2 Axes>"
      ]
     },
     "metadata": {
      "needs_background": "light"
     },
     "output_type": "display_data"
    }
   ],
   "source": [
    "plt.figure(figsize=(16, 4))\n",
    "sns.heatmap(durations[::-1], annot=True, xticklabels=sizes, yticklabels=depths[::-1])\n",
    "plt.xlabel('size')\n",
    "plt.ylabel('depth')"
   ]
  },
  {
   "cell_type": "code",
   "execution_count": 116,
   "id": "68f40f53-63c1-440d-a200-55950f698c55",
   "metadata": {},
   "outputs": [
    {
     "data": {
      "text/plain": [
       "Text(0, 0.5, 'duration (s)')"
      ]
     },
     "execution_count": 116,
     "metadata": {},
     "output_type": "execute_result"
    },
    {
     "data": {
      "image/png": "[encoded data removed]",
      "text/plain": [
       "<Figure size 864x288 with 1 Axes>"
      ]
     },
     "metadata": {
      "needs_background": "light"
     },
     "output_type": "display_data"
    }
   ],
   "source": [
    "plt.figure(figsize=(12, 4))\n",
    "for i, depth in enumerate(depths):\n",
    "    sns.lineplot(y=durations[i], x=sizes)\n",
    "plt.legend([f'depth {depth}' for depth in depths])\n",
    "plt.xlabel('size')\n",
    "plt.ylabel('duration (s)')"
   ]
  },
  {
   "cell_type": "markdown",
   "id": "21014b72-4cb7-4a00-b0d0-2119365c4a19",
   "metadata": {},
   "source": [
    "***Wnioski***\n",
    "\n",
    "Złożoność obliczeniowa jest w postaci $(size^2)^{depth}$ jednego algorytmu minimaxa. Dla głębokości równej jeden można zaoobserować kształt funkcji kwadratowej. Szybkość narastania funkcji dla wszystkich głębokości jest szybsza niż liniowa. Im większa głębkość tym funkcja szybciej rośnie.\n"
   ]
  },
  {
   "cell_type": "markdown",
   "id": "45cc5f95-03da-4a83-9fba-8bb330c409b6",
   "metadata": {},
   "source": [
    "### Funkcje słupkowe"
   ]
  },
  {
   "cell_type": "code",
   "execution_count": 9,
   "id": "3c6d4d4a-d7c7-46f7-8aa8-c2f42c21f98b",
   "metadata": {},
   "outputs": [],
   "source": [
    "def barplot(dictionary, disp=False):\n",
    "    res = {'first': [], 'second': [], 'tie': [], 'index': []}\n",
    "    for key, value in dictionary.items():\n",
    "        res['first'].append(value.count(1))\n",
    "        res['second'].append(value.count(-1))\n",
    "        res['tie'].append(value.count(0))\n",
    "        res['index'].append(key)\n",
    "        \n",
    "    df = pd.DataFrame.from_dict(res).set_index('index')\n",
    "    df.plot(kind='bar', stacked=True)\n",
    "    for x, t in enumerate(df.itertuples()):\n",
    "        plt.text(x, t.first / 2, f'{t.first / (t.first + t.second + t.tie) * 100:.1f}%', \n",
    "                 va='center', ha='center', fontsize=8)\n",
    "        plt.text(x, t.first + t.second / 2, f'{t.second / (t.first + t.second + t.tie) * 100:.1f}%', \n",
    "                 va='center', ha='center', fontsize=8)\n",
    "        plt.text(x, t.first + t.second + t.tie / 2, f'{t.tie / (t.first + t.second + t.tie) * 100:.1f}%', \n",
    "                 va='center', ha='center', fontsize=8)\n",
    "    if disp:\n",
    "        display(df)"
   ]
  },
  {
   "cell_type": "code",
   "execution_count": 10,
   "id": "7d7040d3-7c56-45a6-8ace-a206bf072017",
   "metadata": {},
   "outputs": [],
   "source": [
    "def pool_initializer():\n",
    "    np.random.seed((os.getpid() * int(time.time())) % 123456789)\n",
    "    random.seed((os.getpid() * int(time.time())) % 123456789)"
   ]
  },
  {
   "cell_type": "code",
   "execution_count": 14,
   "id": "3eb3b64e-4f90-4177-bb22-46b1d33b9eb0",
   "metadata": {},
   "outputs": [],
   "source": [
    "THREADS = 24\n",
    "REPS = 128"
   ]
  },
  {
   "cell_type": "code",
   "execution_count": 15,
   "id": "324596ff-024f-490c-b0ef-52b6313b97e7",
   "metadata": {},
   "outputs": [],
   "source": [
    "def plotting_depth_of_fun1(fun1, fun2, size, max_depth1, depth2=1, disp=False):\n",
    "    with Pool(THREADS, initializer=pool_initializer) as pool:\n",
    "        res = {}\n",
    "        for i in range(1, max_depth1 + 1):\n",
    "            res[i] = pool.map(play_unpack, \n",
    "                [(i, depth2, fun1, fun2, size) for _ in range(REPS)])\n",
    "        \n",
    "    barplot(res, disp=disp) \n",
    "\n",
    "def plotting_depth_of_fun2(fun1, fun2, size, max_depth2, depth1=1, disp=False):\n",
    "    with Pool(THREADS, initializer=pool_initializer) as pool:\n",
    "        res = {}\n",
    "        for i in range(1, max_depth2 + 1):\n",
    "            res[i] = pool.map(play_unpack, \n",
    "                [(depth1, i, fun1, fun2, size) for _ in range(REPS)])\n",
    "        \n",
    "    barplot(res, disp=disp)\n",
    "    \n",
    "def plotting_depth_symetric(fun1, fun2, size, max_depth1, depth2=1, disp=False):\n",
    "    with Pool(THREADS, initializer=pool_initializer) as pool:\n",
    "        res = {}\n",
    "        for i in range(1, max_depth1 + 1):\n",
    "            a = pool.map(play_unpack, \n",
    "                [(i, depth2, fun1, fun2, size) for _ in range(REPS // 2)])\n",
    "            b = pool.map(play_unpack, \n",
    "                [(depth2, i, fun2, fun1, size) for _ in range(REPS // 2)])\n",
    "            res[i] = a + [-x for x in b]\n",
    "        \n",
    "    barplot(res, disp=disp)"
   ]
  },
  {
   "cell_type": "markdown",
   "id": "1d4a4abb-ede7-4622-a920-ce63e8176f4a",
   "metadata": {},
   "source": [
    "### Wyniki słupkowe przeprowadzone dla 128 gier dla planszy 3x3"
   ]
  },
  {
   "cell_type": "code",
   "execution_count": 152,
   "id": "f673052e-1ed9-49e3-b899-3d98a9468a14",
   "metadata": {},
   "outputs": [
    {
     "data": {
      "image/png": "[encoded data removed]",
      "text/plain": [
       "<Figure size 432x288 with 1 Axes>"
      ]
     },
     "metadata": {
      "needs_background": "light"
     },
     "output_type": "display_data"
    }
   ],
   "source": [
    "plotting_depth_of_fun1(trivial_heuristics, trivial_heuristics, size=3, max_depth1=7, depth2=7)"
   ]
  },
  {
   "cell_type": "markdown",
   "id": "6d39991c-b401-42db-98db-a0103bbb1719",
   "metadata": {},
   "source": [
    "**WNIOSKI**\n",
    "\n",
    "Dla zwiększającej się głębokości gracza pierwszego (Krzyżyk) oraz stałej głebokości gracza drugiego (7), przy korzystaniu z tych samym heurystyk, zauważyc można przewagę gracza drugiego przy początkowych iteracjach po głębkości gracza pierwszego.\n",
    "Przy osiągnieciu limitu głębkości(7) oraz głębokości o jeden mniejszej(6 dla gracza pierwszego), zakładając, że gracze grają optymalnie, głębokość nie ma znaczenia, a gra doprowadzi do remisu."
   ]
  },
  {
   "cell_type": "code",
   "execution_count": 153,
   "id": "5baad047-d2c5-45b1-b5fc-612d1d89afa1",
   "metadata": {},
   "outputs": [
    {
     "data": {
      "image/png": "[encoded data removed]",
      "text/plain": [
       "<Figure size 432x288 with 1 Axes>"
      ]
     },
     "metadata": {
      "needs_background": "light"
     },
     "output_type": "display_data"
    }
   ],
   "source": [
    "plotting_depth_of_fun2(trivial_heuristics, trivial_heuristics, size=3, max_depth2=7, depth1=7)"
   ]
  },
  {
   "cell_type": "markdown",
   "id": "3fa5f42e-d963-456c-9a52-ccbe6bdf3dd5",
   "metadata": {},
   "source": [
    "**WNIOSKI**\n",
    "\n",
    "**Głębkość ma znaczenie przy wykorzystaniu algorytmu**. Gracz pierwszy gra z większą głębkością, przy kolejnych iteracjach gracza drugiego widać, że przewagę ma gracz pierwszy (Krzyżyk), ma on większą głębokość.\n",
    "\n",
    "\n",
    "Diagramy funkcji plotting_depth_of_fun1 oraz plotting_depth_of_fun2 nie dają takich samych wyników, dlatego że ma znaczenie który gracz rozpoczyna rozgrywkę, żeby móc porównywać do siebie strategie będę testować obie heurestyki w taki sposób, że 50% rozgrywek będzie zaczynać pierwsza, a kolejne 50% druga heurystyka.\n"
   ]
  },
  {
   "cell_type": "code",
   "execution_count": 154,
   "id": "4368766c-cb0a-44fd-8599-5f1635aaa285",
   "metadata": {},
   "outputs": [
    {
     "data": {
      "image/png": "[encoded data removed]",
      "text/plain": [
       "<Figure size 432x288 with 1 Axes>"
      ]
     },
     "metadata": {
      "needs_background": "light"
     },
     "output_type": "display_data"
    }
   ],
   "source": [
    "plotting_depth_symetric(trivial_heuristics, trivial_heuristics, size=3, max_depth1=7, depth2=7)"
   ]
  },
  {
   "cell_type": "markdown",
   "id": "5a2cb60c-3065-4bc8-b426-d51f477f2132",
   "metadata": {},
   "source": [
    "**WNIOSKI**\n",
    "\n",
    "\n",
    "Przy tej samej heurystyce, gracz drugi grający z większą głębokością wygrywa znacznie więcej gier przy pierwszych iteracjach.\n",
    "Przy końcowych iteracjach wyniki gier dla obydwu graczy zostały zremisowane, co oznacza że ruchy graczy(strategie) są optymalne lub bliskie optymalnego.\n",
    "\n",
    "\n"
   ]
  },
  {
   "cell_type": "code",
   "execution_count": 155,
   "id": "5649e16f-b142-4784-af01-236b91dc4fb1",
   "metadata": {},
   "outputs": [
    {
     "data": {
      "image/png": "[encoded data removed]",
      "text/plain": [
       "<Figure size 432x288 with 1 Axes>"
      ]
     },
     "metadata": {
      "needs_background": "light"
     },
     "output_type": "display_data"
    }
   ],
   "source": [
    "plotting_depth_symetric(heuristics, heuristics, size=3, max_depth1=7, depth2=7)"
   ]
  },
  {
   "cell_type": "markdown",
   "id": "a5d918d0-25f3-4c4b-9eea-9a37df1b30d0",
   "metadata": {},
   "source": [
    "**WNIOSKI**\n",
    "\n",
    "Przy korzystaniu z kolejnej funkcji **heuristic**, gracz drugi gra ze stałą głębokością równą 7. Przy pierwszych iteracjach widzimy jego przewagę nad graczem pierwszym. Na głębokości 6 oraz 7 gracze remisują.\n",
    "\n",
    "\n",
    "\n",
    "\n",
    "\n"
   ]
  },
  {
   "cell_type": "code",
   "execution_count": 175,
   "id": "7b54d293-6761-4519-bbef-8aaf3f55018b",
   "metadata": {},
   "outputs": [
    {
     "data": {
      "text/html": [
       "<div>\n",
       "<style scoped>\n",
       "    .dataframe tbody tr th:only-of-type {\n",
       "        vertical-align: middle;\n",
       "    }\n",
       "\n",
       "    .dataframe tbody tr th {\n",
       "        vertical-align: top;\n",
       "    }\n",
       "\n",
       "    .dataframe thead th {\n",
       "        text-align: right;\n",
       "    }\n",
       "</style>\n",
       "<table border=\"1\" class=\"dataframe\">\n",
       "  <thead>\n",
       "    <tr style=\"text-align: right;\">\n",
       "      <th></th>\n",
       "      <th>first</th>\n",
       "      <th>second</th>\n",
       "      <th>tie</th>\n",
       "    </tr>\n",
       "    <tr>\n",
       "      <th>index</th>\n",
       "      <th></th>\n",
       "      <th></th>\n",
       "      <th></th>\n",
       "    </tr>\n",
       "  </thead>\n",
       "  <tbody>\n",
       "    <tr>\n",
       "      <th>1</th>\n",
       "      <td>0</td>\n",
       "      <td>73</td>\n",
       "      <td>55</td>\n",
       "    </tr>\n",
       "    <tr>\n",
       "      <th>2</th>\n",
       "      <td>0</td>\n",
       "      <td>0</td>\n",
       "      <td>128</td>\n",
       "    </tr>\n",
       "    <tr>\n",
       "      <th>3</th>\n",
       "      <td>0</td>\n",
       "      <td>8</td>\n",
       "      <td>120</td>\n",
       "    </tr>\n",
       "    <tr>\n",
       "      <th>4</th>\n",
       "      <td>0</td>\n",
       "      <td>30</td>\n",
       "      <td>98</td>\n",
       "    </tr>\n",
       "    <tr>\n",
       "      <th>5</th>\n",
       "      <td>0</td>\n",
       "      <td>0</td>\n",
       "      <td>128</td>\n",
       "    </tr>\n",
       "    <tr>\n",
       "      <th>6</th>\n",
       "      <td>0</td>\n",
       "      <td>0</td>\n",
       "      <td>128</td>\n",
       "    </tr>\n",
       "    <tr>\n",
       "      <th>7</th>\n",
       "      <td>0</td>\n",
       "      <td>0</td>\n",
       "      <td>128</td>\n",
       "    </tr>\n",
       "  </tbody>\n",
       "</table>\n",
       "</div>"
      ],
      "text/plain": [
       "       first  second  tie\n",
       "index                    \n",
       "1          0      73   55\n",
       "2          0       0  128\n",
       "3          0       8  120\n",
       "4          0      30   98\n",
       "5          0       0  128\n",
       "6          0       0  128\n",
       "7          0       0  128"
      ]
     },
     "metadata": {},
     "output_type": "display_data"
    },
    {
     "data": {
      "image/png": "[encoded data removed]",
      "text/plain": [
       "<Figure size 432x288 with 1 Axes>"
      ]
     },
     "metadata": {
      "needs_background": "light"
     },
     "output_type": "display_data"
    }
   ],
   "source": [
    "plotting_depth_symetric(heuristics2, heuristics2, size=3, max_depth1=7, depth2=7, disp=True)"
   ]
  },
  {
   "cell_type": "markdown",
   "id": "716b097a-5138-45ac-b318-7e0593fb1a6a",
   "metadata": {},
   "source": [
    "**Wnioski**\n",
    "\n",
    "\n",
    "Przy korzystaniu z kolejnej funkcji **heuristic2**, gracz drugi gra ze stałą głębokością równą 7 na planszy 3 na 3. Przy pierwszych iteracjach widzimy jego przewagę nad graczem pierwszym. Na głębokości 2, 5, 6 oraz 7 gracze remisują.\n"
   ]
  },
  {
   "cell_type": "code",
   "execution_count": 157,
   "id": "7cc97bd5-b7bc-439f-8858-d746232fd1c0",
   "metadata": {},
   "outputs": [
    {
     "data": {
      "text/html": [
       "<div>\n",
       "<style scoped>\n",
       "    .dataframe tbody tr th:only-of-type {\n",
       "        vertical-align: middle;\n",
       "    }\n",
       "\n",
       "    .dataframe tbody tr th {\n",
       "        vertical-align: top;\n",
       "    }\n",
       "\n",
       "    .dataframe thead th {\n",
       "        text-align: right;\n",
       "    }\n",
       "</style>\n",
       "<table border=\"1\" class=\"dataframe\">\n",
       "  <thead>\n",
       "    <tr style=\"text-align: right;\">\n",
       "      <th></th>\n",
       "      <th>first</th>\n",
       "      <th>second</th>\n",
       "      <th>tie</th>\n",
       "    </tr>\n",
       "    <tr>\n",
       "      <th>index</th>\n",
       "      <th></th>\n",
       "      <th></th>\n",
       "      <th></th>\n",
       "    </tr>\n",
       "  </thead>\n",
       "  <tbody>\n",
       "    <tr>\n",
       "      <th>1</th>\n",
       "      <td>0</td>\n",
       "      <td>71</td>\n",
       "      <td>57</td>\n",
       "    </tr>\n",
       "    <tr>\n",
       "      <th>2</th>\n",
       "      <td>0</td>\n",
       "      <td>42</td>\n",
       "      <td>86</td>\n",
       "    </tr>\n",
       "    <tr>\n",
       "      <th>3</th>\n",
       "      <td>0</td>\n",
       "      <td>22</td>\n",
       "      <td>106</td>\n",
       "    </tr>\n",
       "    <tr>\n",
       "      <th>4</th>\n",
       "      <td>0</td>\n",
       "      <td>43</td>\n",
       "      <td>85</td>\n",
       "    </tr>\n",
       "    <tr>\n",
       "      <th>5</th>\n",
       "      <td>0</td>\n",
       "      <td>0</td>\n",
       "      <td>128</td>\n",
       "    </tr>\n",
       "    <tr>\n",
       "      <th>6</th>\n",
       "      <td>0</td>\n",
       "      <td>0</td>\n",
       "      <td>128</td>\n",
       "    </tr>\n",
       "    <tr>\n",
       "      <th>7</th>\n",
       "      <td>0</td>\n",
       "      <td>0</td>\n",
       "      <td>128</td>\n",
       "    </tr>\n",
       "  </tbody>\n",
       "</table>\n",
       "</div>"
      ],
      "text/plain": [
       "       first  second  tie\n",
       "index                    \n",
       "1          0      71   57\n",
       "2          0      42   86\n",
       "3          0      22  106\n",
       "4          0      43   85\n",
       "5          0       0  128\n",
       "6          0       0  128\n",
       "7          0       0  128"
      ]
     },
     "metadata": {},
     "output_type": "display_data"
    },
    {
     "data": {
      "image/png": "[encoded data removed]",
      "text/plain": [
       "<Figure size 432x288 with 1 Axes>"
      ]
     },
     "metadata": {
      "needs_background": "light"
     },
     "output_type": "display_data"
    }
   ],
   "source": [
    "plotting_depth_symetric(heuristics, trivial_heuristics, size=3, max_depth1=7, depth2=7, disp=True)"
   ]
  },
  {
   "cell_type": "markdown",
   "id": "1beae264-136f-48e4-b9a0-407f703114da",
   "metadata": {},
   "source": [
    "**Wnioski**\n",
    "\n",
    "Przy porównaniu dwóch róznych funkcji heurystycznych, nadal widać przewagę gracza drugiego nad graczem pierwszym, głębokość przeszukiwania nadal ma znaczenie, nawet przy słabszej heurystyce."
   ]
  },
  {
   "cell_type": "code",
   "execution_count": 158,
   "id": "2fd9115b-e137-436e-bfeb-e7991d81a8ec",
   "metadata": {},
   "outputs": [
    {
     "data": {
      "image/png": "[encoded data removed]",
      "text/plain": [
       "<Figure size 432x288 with 1 Axes>"
      ]
     },
     "metadata": {
      "needs_background": "light"
     },
     "output_type": "display_data"
    }
   ],
   "source": [
    "plotting_depth_symetric(trivial_heuristics, heuristics, size=3, max_depth1=7, depth2=7)"
   ]
  },
  {
   "cell_type": "markdown",
   "id": "423c2c43-fafd-4b31-9811-7121818f8ab1",
   "metadata": {},
   "source": [
    "**Wnioski**\n",
    "\n",
    "W tym przypadku wyrazniej widać przewagę funkcji heurystycznej heuristic nad funkcja trivial_heuristic. Więcej gier gracza drugiego zostały wygrane w porównaniu do wcześniejszego diagramu, wygrane przeciągnęły się do 5 głębokości, a po niej mamy remisy."
   ]
  },
  {
   "cell_type": "code",
   "execution_count": 159,
   "id": "a343faa9-7876-41fc-a6f2-564cde43a681",
   "metadata": {},
   "outputs": [
    {
     "data": {
      "image/png": "[encoded data removed]",
      "text/plain": [
       "<Figure size 432x288 with 1 Axes>"
      ]
     },
     "metadata": {
      "needs_background": "light"
     },
     "output_type": "display_data"
    }
   ],
   "source": [
    "plotting_depth_symetric(heuristics2, trivial_heuristics, size=3, max_depth1=7, depth2=7)"
   ]
  },
  {
   "cell_type": "markdown",
   "id": "920cc211-a2e5-4d9e-acca-7defbb1b3ed4",
   "metadata": {},
   "source": [
    "**Wnioski**\n",
    "\n",
    "Przy porównaniu dwóch róznych funkcji heurystycznych, nadal widać przewagę gracza drugiego nad graczem pierwszym. Drugi gra z większą głębokością przeszukiwania.\n",
    "\n"
   ]
  },
  {
   "cell_type": "code",
   "execution_count": 160,
   "id": "f2d05f9f-5b63-42e2-891b-4df5c097972f",
   "metadata": {},
   "outputs": [
    {
     "data": {
      "image/png": "[encoded data removed]",
      "text/plain": [
       "<Figure size 432x288 with 1 Axes>"
      ]
     },
     "metadata": {
      "needs_background": "light"
     },
     "output_type": "display_data"
    }
   ],
   "source": [
    "plotting_depth_symetric(trivial_heuristics, heuristics2, size=3, max_depth1=7, depth2=7)"
   ]
  },
  {
   "cell_type": "markdown",
   "id": "953c1296-40da-47e9-a986-805d8fce90b9",
   "metadata": {},
   "source": [
    "**Wnioski**\n",
    "\n",
    "Przy porównaniu dwóch róznych funkcji heurystycznych, nadal widać przewagę gracza drugiego nad graczem pierwszym. Gracz drugi gra z większą głębokością, ilość wygranych jest większa ze względu na wykorzystanie bardziej optymalnej funkcji heurystycznej.\n"
   ]
  },
  {
   "cell_type": "code",
   "execution_count": 161,
   "id": "e0e1d4cd-1887-4bd5-9094-6cabc77d3024",
   "metadata": {},
   "outputs": [
    {
     "data": {
      "image/png": "[encoded data removed]",
      "text/plain": [
       "<Figure size 432x288 with 1 Axes>"
      ]
     },
     "metadata": {
      "needs_background": "light"
     },
     "output_type": "display_data"
    }
   ],
   "source": [
    "plotting_depth_symetric(heuristics2, heuristics, size=3, max_depth1=7, depth2=7)"
   ]
  },
  {
   "cell_type": "markdown",
   "id": "43a7466b-20db-41d6-ae45-aaa7dc2fa3ca",
   "metadata": {},
   "source": [
    "**Wnioski**\n",
    "\n",
    "Gracz drugi przy korzystaniu z funkcji heuristics oraz z większą głębokością ma przewagę nad graczem pierwszym. Przy końcowych głębokościach gracze remisują (5,6,7).\n",
    "\n"
   ]
  },
  {
   "cell_type": "code",
   "execution_count": 162,
   "id": "b696c85c-723f-4e9d-8cf9-b4cef9214ab2",
   "metadata": {},
   "outputs": [
    {
     "data": {
      "image/png": "[encoded data removed]",
      "text/plain": [
       "<Figure size 432x288 with 1 Axes>"
      ]
     },
     "metadata": {
      "needs_background": "light"
     },
     "output_type": "display_data"
    }
   ],
   "source": [
    "plotting_depth_symetric(heuristics, heuristics2, size=3, max_depth1=7, depth2=7)"
   ]
  },
  {
   "cell_type": "markdown",
   "id": "ac7610b1-778c-465c-8078-87df2cc96af5",
   "metadata": {},
   "source": [
    "**Wnioski**\n",
    "\n",
    "Gracz drugi (Kółko) gra z bardziej korzystną heurystyką oraz z większą głębokością. \n",
    "Gracz pierwszy nie ma szans na wygraną przy takich ustawieniach. W porównaniu do poprzedniego wykresu ilość wygranych gracz drugiego jest znacznie większa. Widać, że dla głębokości 5 gracz drugi ma nadal korzystniejsze wyniki, nie remisuje tak jak na poprzednim wykresie."
   ]
  },
  {
   "cell_type": "code",
   "execution_count": 144,
   "id": "2c8f6d3b-d3de-4763-95c5-8384942d06a7",
   "metadata": {
    "tags": []
   },
   "outputs": [],
   "source": [
    "def no_heuristics(*a):\n",
    "    assert 0"
   ]
  },
  {
   "cell_type": "code",
   "execution_count": 150,
   "id": "53ea6d07-853e-4dfc-80c1-86af92b9c7b7",
   "metadata": {},
   "outputs": [
    {
     "data": {
      "image/png": "[encoded data removed]",
      "text/plain": [
       "<Figure size 432x288 with 1 Axes>"
      ]
     },
     "metadata": {
      "needs_background": "light"
     },
     "output_type": "display_data"
    }
   ],
   "source": [
    "plotting_depth_symetric(trivial_heuristics, no_heuristics, size=3, max_depth1=5, depth2=np.inf)"
   ]
  },
  {
   "cell_type": "markdown",
   "id": "4b1696a4-dc3d-4d96-b57f-502971b75d81",
   "metadata": {},
   "source": [
    "**Wnioski**\n",
    "\n",
    "Przewaga gracza drugiego we wszystkich głębokościach, osiągającego stan terminalny."
   ]
  },
  {
   "cell_type": "code",
   "execution_count": 176,
   "id": "10bcd162-4262-4d43-8cc4-385be23a1fcf",
   "metadata": {},
   "outputs": [
    {
     "data": {
      "image/png": "[encoded data removed]",
      "text/plain": [
       "<Figure size 432x288 with 1 Axes>"
      ]
     },
     "metadata": {
      "needs_background": "light"
     },
     "output_type": "display_data"
    }
   ],
   "source": [
    "plotting_depth_symetric(heuristics, no_heuristics, size=3, max_depth1=5, depth2=np.inf)"
   ]
  },
  {
   "cell_type": "code",
   "execution_count": 178,
   "id": "c16c5e71-6020-4d5c-bbbd-5b8ef4b21f36",
   "metadata": {},
   "outputs": [
    {
     "data": {
      "image/png": "[encoded data removed]",
      "text/plain": [
       "<Figure size 432x288 with 1 Axes>"
      ]
     },
     "metadata": {
      "needs_background": "light"
     },
     "output_type": "display_data"
    }
   ],
   "source": [
    "plotting_depth_symetric(heuristics2, no_heuristics, size=3, max_depth1=5, depth2=np.inf)"
   ]
  },
  {
   "cell_type": "markdown",
   "id": "d27d4f05-5044-431e-8483-d81d0358c3b1",
   "metadata": {},
   "source": [
    "**Wnioski**\n",
    "\n",
    "Diagramy dla głębokości osiągających stan terminalny dla gracza drugiego, gracz drugi ma większą szanse na wygraną.\n",
    "Dla głębokości 5 funkcja heuristics2 remisuje rozgrywkę, co znaczy że jest optymalna."
   ]
  },
  {
   "cell_type": "markdown",
   "id": "777229fd-40e5-4c40-8ca1-3683b1c24ff0",
   "metadata": {},
   "source": [
    "### Wyniki turniejowe dla większych plansz"
   ]
  },
  {
   "cell_type": "code",
   "execution_count": 174,
   "id": "4eadc2f6-e4ac-445e-9b65-8c4b23611904",
   "metadata": {},
   "outputs": [
    {
     "data": {
      "text/html": [
       "<div>\n",
       "<style scoped>\n",
       "    .dataframe tbody tr th:only-of-type {\n",
       "        vertical-align: middle;\n",
       "    }\n",
       "\n",
       "    .dataframe tbody tr th {\n",
       "        vertical-align: top;\n",
       "    }\n",
       "\n",
       "    .dataframe thead th {\n",
       "        text-align: right;\n",
       "    }\n",
       "</style>\n",
       "<table border=\"1\" class=\"dataframe\">\n",
       "  <thead>\n",
       "    <tr style=\"text-align: right;\">\n",
       "      <th></th>\n",
       "      <th>first</th>\n",
       "      <th>second</th>\n",
       "      <th>tie</th>\n",
       "    </tr>\n",
       "    <tr>\n",
       "      <th>index</th>\n",
       "      <th></th>\n",
       "      <th></th>\n",
       "      <th></th>\n",
       "    </tr>\n",
       "  </thead>\n",
       "  <tbody>\n",
       "    <tr>\n",
       "      <th>1</th>\n",
       "      <td>1</td>\n",
       "      <td>69</td>\n",
       "      <td>58</td>\n",
       "    </tr>\n",
       "    <tr>\n",
       "      <th>2</th>\n",
       "      <td>3</td>\n",
       "      <td>8</td>\n",
       "      <td>117</td>\n",
       "    </tr>\n",
       "    <tr>\n",
       "      <th>3</th>\n",
       "      <td>1</td>\n",
       "      <td>13</td>\n",
       "      <td>114</td>\n",
       "    </tr>\n",
       "    <tr>\n",
       "      <th>4</th>\n",
       "      <td>1</td>\n",
       "      <td>0</td>\n",
       "      <td>127</td>\n",
       "    </tr>\n",
       "  </tbody>\n",
       "</table>\n",
       "</div>"
      ],
      "text/plain": [
       "       first  second  tie\n",
       "index                    \n",
       "1          1      69   58\n",
       "2          3       8  117\n",
       "3          1      13  114\n",
       "4          1       0  127"
      ]
     },
     "metadata": {},
     "output_type": "display_data"
    },
    {
     "data": {
      "image/png": "[encoded data removed]",
      "text/plain": [
       "<Figure size 432x288 with 1 Axes>"
      ]
     },
     "metadata": {
      "needs_background": "light"
     },
     "output_type": "display_data"
    }
   ],
   "source": [
    "plotting_depth_symetric(trivial_heuristics, trivial_heuristics, size=4, max_depth1=4, depth2=4, disp=True)"
   ]
  },
  {
   "cell_type": "markdown",
   "id": "31d59a59-643b-425c-abc4-a54a32310651",
   "metadata": {},
   "source": [
    "**Wnioski**\n",
    "\n",
    "Gracz drugi, który gra przy pomocy większej głębokości przeszukiwania ma większe szanse na wygraną przy zwiększaniu się kolejnych głębokości gracza pierwszego. Zauważamy minimalne szanse na wygraną dla gracza pierwszego przy zwiększaniu rozmiaru planszy, rzędu 1%."
   ]
  },
  {
   "cell_type": "code",
   "execution_count": 165,
   "id": "ffc7eb0e-7df8-47eb-88e3-504a4570af32",
   "metadata": {},
   "outputs": [
    {
     "data": {
      "text/html": [
       "<div>\n",
       "<style scoped>\n",
       "    .dataframe tbody tr th:only-of-type {\n",
       "        vertical-align: middle;\n",
       "    }\n",
       "\n",
       "    .dataframe tbody tr th {\n",
       "        vertical-align: top;\n",
       "    }\n",
       "\n",
       "    .dataframe thead th {\n",
       "        text-align: right;\n",
       "    }\n",
       "</style>\n",
       "<table border=\"1\" class=\"dataframe\">\n",
       "  <thead>\n",
       "    <tr style=\"text-align: right;\">\n",
       "      <th></th>\n",
       "      <th>first</th>\n",
       "      <th>second</th>\n",
       "      <th>tie</th>\n",
       "    </tr>\n",
       "    <tr>\n",
       "      <th>index</th>\n",
       "      <th></th>\n",
       "      <th></th>\n",
       "      <th></th>\n",
       "    </tr>\n",
       "  </thead>\n",
       "  <tbody>\n",
       "    <tr>\n",
       "      <th>1</th>\n",
       "      <td>1</td>\n",
       "      <td>19</td>\n",
       "      <td>108</td>\n",
       "    </tr>\n",
       "    <tr>\n",
       "      <th>2</th>\n",
       "      <td>0</td>\n",
       "      <td>3</td>\n",
       "      <td>125</td>\n",
       "    </tr>\n",
       "    <tr>\n",
       "      <th>3</th>\n",
       "      <td>0</td>\n",
       "      <td>7</td>\n",
       "      <td>121</td>\n",
       "    </tr>\n",
       "    <tr>\n",
       "      <th>4</th>\n",
       "      <td>1</td>\n",
       "      <td>3</td>\n",
       "      <td>124</td>\n",
       "    </tr>\n",
       "  </tbody>\n",
       "</table>\n",
       "</div>"
      ],
      "text/plain": [
       "       first  second  tie\n",
       "index                    \n",
       "1          1      19  108\n",
       "2          0       3  125\n",
       "3          0       7  121\n",
       "4          1       3  124"
      ]
     },
     "metadata": {},
     "output_type": "display_data"
    },
    {
     "data": {
      "image/png": "[encoded data removed]",
      "text/plain": [
       "<Figure size 432x288 with 1 Axes>"
      ]
     },
     "metadata": {
      "needs_background": "light"
     },
     "output_type": "display_data"
    }
   ],
   "source": [
    "plotting_depth_symetric(heuristics, heuristics, size=4, max_depth1=4, depth2=4, disp=True)"
   ]
  },
  {
   "cell_type": "markdown",
   "id": "3eecc443-2ec2-48ae-97d4-62c407128bf4",
   "metadata": {},
   "source": [
    "**Wnioski**\n",
    "\n",
    "Gracz drugi, który gra przy pomocy większej głębokości przeszukiwania ma większe szanse na wygraną przy zwiększaniu się kolejnych głębokości gracza pierwszego.\n",
    "W porównaniu do funkcji trivial_heuristic gracz drugi, wygrywał o wiele mniej razy.\n"
   ]
  },
  {
   "cell_type": "code",
   "execution_count": 166,
   "id": "3a829703-1b20-4245-a9dc-e2b30bb51877",
   "metadata": {},
   "outputs": [
    {
     "data": {
      "text/html": [
       "<div>\n",
       "<style scoped>\n",
       "    .dataframe tbody tr th:only-of-type {\n",
       "        vertical-align: middle;\n",
       "    }\n",
       "\n",
       "    .dataframe tbody tr th {\n",
       "        vertical-align: top;\n",
       "    }\n",
       "\n",
       "    .dataframe thead th {\n",
       "        text-align: right;\n",
       "    }\n",
       "</style>\n",
       "<table border=\"1\" class=\"dataframe\">\n",
       "  <thead>\n",
       "    <tr style=\"text-align: right;\">\n",
       "      <th></th>\n",
       "      <th>first</th>\n",
       "      <th>second</th>\n",
       "      <th>tie</th>\n",
       "    </tr>\n",
       "    <tr>\n",
       "      <th>index</th>\n",
       "      <th></th>\n",
       "      <th></th>\n",
       "      <th></th>\n",
       "    </tr>\n",
       "  </thead>\n",
       "  <tbody>\n",
       "    <tr>\n",
       "      <th>1</th>\n",
       "      <td>0</td>\n",
       "      <td>8</td>\n",
       "      <td>120</td>\n",
       "    </tr>\n",
       "    <tr>\n",
       "      <th>2</th>\n",
       "      <td>1</td>\n",
       "      <td>4</td>\n",
       "      <td>123</td>\n",
       "    </tr>\n",
       "    <tr>\n",
       "      <th>3</th>\n",
       "      <td>0</td>\n",
       "      <td>3</td>\n",
       "      <td>125</td>\n",
       "    </tr>\n",
       "    <tr>\n",
       "      <th>4</th>\n",
       "      <td>5</td>\n",
       "      <td>0</td>\n",
       "      <td>123</td>\n",
       "    </tr>\n",
       "  </tbody>\n",
       "</table>\n",
       "</div>"
      ],
      "text/plain": [
       "       first  second  tie\n",
       "index                    \n",
       "1          0       8  120\n",
       "2          1       4  123\n",
       "3          0       3  125\n",
       "4          5       0  123"
      ]
     },
     "metadata": {},
     "output_type": "display_data"
    },
    {
     "data": {
      "image/png": "[encoded data removed]",
      "text/plain": [
       "<Figure size 432x288 with 1 Axes>"
      ]
     },
     "metadata": {
      "needs_background": "light"
     },
     "output_type": "display_data"
    }
   ],
   "source": [
    "plotting_depth_symetric(heuristics, trivial_heuristics, size=4, max_depth1=4, depth2=4, disp=True)"
   ]
  },
  {
   "cell_type": "markdown",
   "id": "1903bb26-3143-4ca7-8b3e-3c20fa7be963",
   "metadata": {},
   "source": [
    "**wnioski**\n",
    "\n",
    "Gracz drugi korzystający z większej głębokości wygrywa wraz ze wzrostem głębokości gracza pierwszego. Przy osiągnieciu tej samej głębokości gracz pierwszy korzystający z bardziej optymalnej heurystyki wygrał więcej razy, co świadczy o tym, że funkcja heurystyczna którą implementują gracze ma znaczenie."
   ]
  },
  {
   "cell_type": "code",
   "execution_count": 167,
   "id": "3e026769-1705-4670-bc75-cd4b0b244044",
   "metadata": {},
   "outputs": [
    {
     "data": {
      "text/html": [
       "<div>\n",
       "<style scoped>\n",
       "    .dataframe tbody tr th:only-of-type {\n",
       "        vertical-align: middle;\n",
       "    }\n",
       "\n",
       "    .dataframe tbody tr th {\n",
       "        vertical-align: top;\n",
       "    }\n",
       "\n",
       "    .dataframe thead th {\n",
       "        text-align: right;\n",
       "    }\n",
       "</style>\n",
       "<table border=\"1\" class=\"dataframe\">\n",
       "  <thead>\n",
       "    <tr style=\"text-align: right;\">\n",
       "      <th></th>\n",
       "      <th>first</th>\n",
       "      <th>second</th>\n",
       "      <th>tie</th>\n",
       "    </tr>\n",
       "    <tr>\n",
       "      <th>index</th>\n",
       "      <th></th>\n",
       "      <th></th>\n",
       "      <th></th>\n",
       "    </tr>\n",
       "  </thead>\n",
       "  <tbody>\n",
       "    <tr>\n",
       "      <th>1</th>\n",
       "      <td>0</td>\n",
       "      <td>81</td>\n",
       "      <td>47</td>\n",
       "    </tr>\n",
       "    <tr>\n",
       "      <th>2</th>\n",
       "      <td>1</td>\n",
       "      <td>16</td>\n",
       "      <td>111</td>\n",
       "    </tr>\n",
       "    <tr>\n",
       "      <th>3</th>\n",
       "      <td>0</td>\n",
       "      <td>11</td>\n",
       "      <td>117</td>\n",
       "    </tr>\n",
       "    <tr>\n",
       "      <th>4</th>\n",
       "      <td>0</td>\n",
       "      <td>3</td>\n",
       "      <td>125</td>\n",
       "    </tr>\n",
       "  </tbody>\n",
       "</table>\n",
       "</div>"
      ],
      "text/plain": [
       "       first  second  tie\n",
       "index                    \n",
       "1          0      81   47\n",
       "2          1      16  111\n",
       "3          0      11  117\n",
       "4          0       3  125"
      ]
     },
     "metadata": {},
     "output_type": "display_data"
    },
    {
     "data": {
      "image/png": "[encoded data removed]",
      "text/plain": [
       "<Figure size 432x288 with 1 Axes>"
      ]
     },
     "metadata": {
      "needs_background": "light"
     },
     "output_type": "display_data"
    }
   ],
   "source": [
    "plotting_depth_symetric(trivial_heuristics, heuristics, size=4, max_depth1=4, depth2=4, disp=True)"
   ]
  },
  {
   "cell_type": "markdown",
   "id": "2d65ae15-3f4b-4dc6-92f7-1dd2b317e1aa",
   "metadata": {},
   "source": [
    "**Wnioski**\n",
    "\n",
    "Gracz drugi przy bardziej korzystnej heurystyce oraz większej głębokości ma większe szanse na wygraną. W porównaniu do wcześniejszego wykresu ilość wygranych jest większa."
   ]
  },
  {
   "cell_type": "code",
   "execution_count": 168,
   "id": "e207b69e-eed6-45c4-83e6-9f7d23644623",
   "metadata": {},
   "outputs": [
    {
     "data": {
      "text/html": [
       "<div>\n",
       "<style scoped>\n",
       "    .dataframe tbody tr th:only-of-type {\n",
       "        vertical-align: middle;\n",
       "    }\n",
       "\n",
       "    .dataframe tbody tr th {\n",
       "        vertical-align: top;\n",
       "    }\n",
       "\n",
       "    .dataframe thead th {\n",
       "        text-align: right;\n",
       "    }\n",
       "</style>\n",
       "<table border=\"1\" class=\"dataframe\">\n",
       "  <thead>\n",
       "    <tr style=\"text-align: right;\">\n",
       "      <th></th>\n",
       "      <th>first</th>\n",
       "      <th>second</th>\n",
       "      <th>tie</th>\n",
       "    </tr>\n",
       "    <tr>\n",
       "      <th>index</th>\n",
       "      <th></th>\n",
       "      <th></th>\n",
       "      <th></th>\n",
       "    </tr>\n",
       "  </thead>\n",
       "  <tbody>\n",
       "    <tr>\n",
       "      <th>1</th>\n",
       "      <td>0</td>\n",
       "      <td>43</td>\n",
       "      <td>85</td>\n",
       "    </tr>\n",
       "    <tr>\n",
       "      <th>2</th>\n",
       "      <td>0</td>\n",
       "      <td>4</td>\n",
       "      <td>124</td>\n",
       "    </tr>\n",
       "    <tr>\n",
       "      <th>3</th>\n",
       "      <td>0</td>\n",
       "      <td>4</td>\n",
       "      <td>124</td>\n",
       "    </tr>\n",
       "    <tr>\n",
       "      <th>4</th>\n",
       "      <td>1</td>\n",
       "      <td>1</td>\n",
       "      <td>126</td>\n",
       "    </tr>\n",
       "  </tbody>\n",
       "</table>\n",
       "</div>"
      ],
      "text/plain": [
       "       first  second  tie\n",
       "index                    \n",
       "1          0      43   85\n",
       "2          0       4  124\n",
       "3          0       4  124\n",
       "4          1       1  126"
      ]
     },
     "metadata": {},
     "output_type": "display_data"
    },
    {
     "data": {
      "image/png": "[encoded data removed]",
      "text/plain": [
       "<Figure size 432x288 with 1 Axes>"
      ]
     },
     "metadata": {
      "needs_background": "light"
     },
     "output_type": "display_data"
    }
   ],
   "source": [
    "plotting_depth_symetric(trivial_heuristics, trivial_heuristics, size=5, max_depth1=4, depth2=4, disp=True)"
   ]
  },
  {
   "cell_type": "markdown",
   "id": "ec6127c6-be73-4ffa-ba9c-13118e65ffa3",
   "metadata": {},
   "source": [
    "**Wnioski**\n",
    "\n",
    "Gracz drugi przy większej głębokości ma większe szanse na wygraną. Przy równych głębokościach następuje remis dla obydwu graczy. Gra rozegrana na planszy 5 na 5."
   ]
  },
  {
   "cell_type": "code",
   "execution_count": 169,
   "id": "4e2e148a-5a9b-4a85-ae2c-b7b716f0be64",
   "metadata": {},
   "outputs": [
    {
     "data": {
      "text/html": [
       "<div>\n",
       "<style scoped>\n",
       "    .dataframe tbody tr th:only-of-type {\n",
       "        vertical-align: middle;\n",
       "    }\n",
       "\n",
       "    .dataframe tbody tr th {\n",
       "        vertical-align: top;\n",
       "    }\n",
       "\n",
       "    .dataframe thead th {\n",
       "        text-align: right;\n",
       "    }\n",
       "</style>\n",
       "<table border=\"1\" class=\"dataframe\">\n",
       "  <thead>\n",
       "    <tr style=\"text-align: right;\">\n",
       "      <th></th>\n",
       "      <th>first</th>\n",
       "      <th>second</th>\n",
       "      <th>tie</th>\n",
       "    </tr>\n",
       "    <tr>\n",
       "      <th>index</th>\n",
       "      <th></th>\n",
       "      <th></th>\n",
       "      <th></th>\n",
       "    </tr>\n",
       "  </thead>\n",
       "  <tbody>\n",
       "    <tr>\n",
       "      <th>1</th>\n",
       "      <td>0</td>\n",
       "      <td>60</td>\n",
       "      <td>68</td>\n",
       "    </tr>\n",
       "    <tr>\n",
       "      <th>2</th>\n",
       "      <td>0</td>\n",
       "      <td>3</td>\n",
       "      <td>125</td>\n",
       "    </tr>\n",
       "    <tr>\n",
       "      <th>3</th>\n",
       "      <td>0</td>\n",
       "      <td>0</td>\n",
       "      <td>128</td>\n",
       "    </tr>\n",
       "    <tr>\n",
       "      <th>4</th>\n",
       "      <td>0</td>\n",
       "      <td>0</td>\n",
       "      <td>128</td>\n",
       "    </tr>\n",
       "  </tbody>\n",
       "</table>\n",
       "</div>"
      ],
      "text/plain": [
       "       first  second  tie\n",
       "index                    \n",
       "1          0      60   68\n",
       "2          0       3  125\n",
       "3          0       0  128\n",
       "4          0       0  128"
      ]
     },
     "metadata": {},
     "output_type": "display_data"
    },
    {
     "data": {
      "image/png": "[encoded data removed]",
      "text/plain": [
       "<Figure size 432x288 with 1 Axes>"
      ]
     },
     "metadata": {
      "needs_background": "light"
     },
     "output_type": "display_data"
    }
   ],
   "source": [
    "plotting_depth_symetric(trivial_heuristics, heuristics, size=5, max_depth1=4, depth2=4, disp=True)"
   ]
  },
  {
   "cell_type": "markdown",
   "id": "ef8fe0be-7310-4275-b4e4-f7e30c39826f",
   "metadata": {},
   "source": [
    "**Wnioski**\n",
    "\n",
    "Gracz drugi wygrywa, duże znaczenie dla strategi mają zastosowane heurystyki. Na większej planszy 5x5 liczba remisów jest znacznie większa, co widać na 3 i 4 głębokości."
   ]
  },
  {
   "cell_type": "code",
   "execution_count": 130,
   "id": "2a4397b9-a898-4330-ac13-c7671129c4b2",
   "metadata": {},
   "outputs": [
    {
     "data": {
      "text/html": [
       "<div>\n",
       "<style scoped>\n",
       "    .dataframe tbody tr th:only-of-type {\n",
       "        vertical-align: middle;\n",
       "    }\n",
       "\n",
       "    .dataframe tbody tr th {\n",
       "        vertical-align: top;\n",
       "    }\n",
       "\n",
       "    .dataframe thead th {\n",
       "        text-align: right;\n",
       "    }\n",
       "</style>\n",
       "<table border=\"1\" class=\"dataframe\">\n",
       "  <thead>\n",
       "    <tr style=\"text-align: right;\">\n",
       "      <th></th>\n",
       "      <th>first</th>\n",
       "      <th>second</th>\n",
       "      <th>tie</th>\n",
       "    </tr>\n",
       "    <tr>\n",
       "      <th>index</th>\n",
       "      <th></th>\n",
       "      <th></th>\n",
       "      <th></th>\n",
       "    </tr>\n",
       "  </thead>\n",
       "  <tbody>\n",
       "    <tr>\n",
       "      <th>1</th>\n",
       "      <td>0</td>\n",
       "      <td>0</td>\n",
       "      <td>128</td>\n",
       "    </tr>\n",
       "    <tr>\n",
       "      <th>2</th>\n",
       "      <td>0</td>\n",
       "      <td>0</td>\n",
       "      <td>128</td>\n",
       "    </tr>\n",
       "    <tr>\n",
       "      <th>3</th>\n",
       "      <td>0</td>\n",
       "      <td>0</td>\n",
       "      <td>128</td>\n",
       "    </tr>\n",
       "    <tr>\n",
       "      <th>4</th>\n",
       "      <td>0</td>\n",
       "      <td>0</td>\n",
       "      <td>128</td>\n",
       "    </tr>\n",
       "  </tbody>\n",
       "</table>\n",
       "</div>"
      ],
      "text/plain": [
       "       first  second  tie\n",
       "index                    \n",
       "1          0       0  128\n",
       "2          0       0  128\n",
       "3          0       0  128\n",
       "4          0       0  128"
      ]
     },
     "metadata": {},
     "output_type": "display_data"
    },
    {
     "data": {
      "image/png": "[encoded data removed]",
      "text/plain": [
       "<Figure size 432x288 with 1 Axes>"
      ]
     },
     "metadata": {
      "needs_background": "light"
     },
     "output_type": "display_data"
    }
   ],
   "source": [
    "plotting_depth_symetric(heuristics, trivial_heuristics, size=5, max_depth1=4, depth2=4, disp=True)"
   ]
  },
  {
   "cell_type": "markdown",
   "id": "b7752156-9d0e-401c-9216-56848d8407c6",
   "metadata": {},
   "source": [
    "**Wnioski**\n",
    "\n",
    "Uzyskany remis dla wszystkich głębokości. Przy większych planszach i obecnych ostawieniach (wygrywa cały zapełniony rząd diagonal, kolumn, wierszy) wartość remisów jest najbardziej prawdopodobna."
   ]
  }
 ],
 "metadata": {
  "kernelspec": {
   "display_name": "Python 3 (ipykernel)",
   "language": "python",
   "name": "python3"
  },
  "language_info": {
   "codemirror_mode": {
    "name": "ipython",
    "version": 3
   },
   "file_extension": ".py",
   "mimetype": "text/x-python",
   "name": "python",
   "nbconvert_exporter": "python",
   "pygments_lexer": "ipython3",
   "version": "3.10.6"
  }
 },
 "nbformat": 4,
 "nbformat_minor": 5
}
